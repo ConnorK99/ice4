{
 "cells": [
  {
   "cell_type": "code",
   "execution_count": 5,
   "metadata": {
    "collapsed": false
   },
   "outputs": [
    {
     "data": {
      "text/plain": [
       "u'C:\\\\Github\\\\ice3\\\\2016-08-09'"
      ]
     },
     "execution_count": 5,
     "metadata": {},
     "output_type": "execute_result"
    }
   ],
   "source": [
    "import sys; sys.path.insert(0, '../')\n",
    "# import facetbrightnessstuff as fbs\n",
    "import matplotlib.pyplot as plt\n",
    "# from mpl_toolkits.mplot3d import Axes3D\n",
    "# import copy\n",
    "# import scipy.interpolate\n",
    "import afnstuff as afns\n",
    "import numpy as np\n",
    "# %matplotlib\n",
    "%pwd"
   ]
  },
  {
   "cell_type": "code",
   "execution_count": 6,
   "metadata": {
    "collapsed": false
   },
   "outputs": [
    {
     "name": "stdout",
     "output_type": "stream",
     "text": [
      "Na=  [[ 0.21603681]\n",
      " [-0.30902278]\n",
      " [ 0.92619275]]\n",
      "Nb=  [[-0.28265549]\n",
      " [ 0.54669816]\n",
      " [ 0.78817954]]\n",
      "c=  [[ 0.86592531]\n",
      " [ 0.49891061]\n",
      " [-0.03551852]]\n"
     ]
    }
   ],
   "source": [
    "\n",
    "# Load the normal vectors\n",
    "filename = 'temp_facetnormals.npz'\n",
    "npzdata = np.load(filename)\n",
    "navec = np.array(npzdata['navec'])*np.array([[1],[-1],[1]]); print 'Na= ',navec#multiplying by [1,-1,1] because glc uses y axis upward\n",
    "nbvec = np.array(npzdata['nbvec'])*np.array([[1],[-1],[1]]); print 'Nb= ',nbvec \n",
    "cvec = np.array(npzdata['cvec'])*np.array([[1],[-1],[1]]); print 'c= ',cvec\n",
    "#%whos"
   ]
  },
  {
   "cell_type": "code",
   "execution_count": 7,
   "metadata": {
    "collapsed": false
   },
   "outputs": [],
   "source": [
    "# Create a matrix of orthogonal vectors in the \"prime\" (new) frame\n",
    "xhatp = navec\n",
    "yhatp = np.matrix(np.cross(cvec.T,navec.T).T)\n",
    "zhatp = cvec\n",
    "rotmat = np.matrix(np.squeeze([xhatp,yhatp,zhatp])).T"
   ]
  },
  {
   "cell_type": "code",
   "execution_count": 8,
   "metadata": {
    "collapsed": false
   },
   "outputs": [],
   "source": [
    "# Convert to stl format and save\n",
    "hexstl = afns.stl('Crystal I - polyhedron.afn')\n",
    "hexstl.rotate(rotmat)\n",
    "hexstl.afn_to_stl()\n",
    "hexstl.write_file('Crystal I - polyhedronp.stl')"
   ]
  },
  {
   "cell_type": "code",
   "execution_count": null,
   "metadata": {
    "collapsed": true
   },
   "outputs": [],
   "source": []
  }
 ],
 "metadata": {
  "kernelspec": {
   "display_name": "Python 2",
   "language": "python",
   "name": "python2"
  },
  "language_info": {
   "codemirror_mode": {
    "name": "ipython",
    "version": 2
   },
   "file_extension": ".py",
   "mimetype": "text/x-python",
   "name": "python",
   "nbconvert_exporter": "python",
   "pygments_lexer": "ipython2",
   "version": "2.7.9"
  }
 },
 "nbformat": 4,
 "nbformat_minor": 0
}
