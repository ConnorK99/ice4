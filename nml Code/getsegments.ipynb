{
 "cells": [
  {
   "cell_type": "code",
   "execution_count": 1,
   "metadata": {
    "collapsed": true
   },
   "outputs": [],
   "source": [
    "# This code gets and returns the parametes for a given case. Reads what is necessary then calculates the rest.\n",
    "import f90nml #need to figure out problem of always executing nml setup code before each run"
   ]
  },
  {
   "cell_type": "code",
   "execution_count": 2,
   "metadata": {
    "collapsed": false
   },
   "outputs": [
    {
     "name": "stdout",
     "output_type": "stream",
     "text": [
      "&segments\n",
      "nysegments = 1\n",
      "nxsegments = 4\n",
      "nacross = 30\n",
      "ndown = 20\n",
      "nxstart = 210\n",
      "ny1start = 300\n",
      "/\n",
      "\n",
      "&calibration\n",
      "pA = 101.04798753 , 106.958873177\n",
      "pB = 90.1823777937 , 76.3561483181\n",
      "pC = 95.8244330336 , 77.4315996502\n",
      "pD = 104.429731424 , 87.5491460912\n",
      "/\n",
      "Namelist([('nysegments', 1), ('nxsegments', 4), ('nacross', 30), ('ndown', 20), ('nxstart', 210), ('ny1start', 300)])\n",
      "Namelist([('pa', [101.04798753, 106.958873177]), ('pb', [90.1823777937, 76.3561483181]), ('pc', [95.8244330336, 77.4315996502]), ('pd', [104.429731424, 87.5491460912])])\n"
     ]
    }
   ],
   "source": [
    "# read in a namelist\n",
    "nmlfile = 'Params.nml'\n",
    "%cat $nmlfile\n",
    "\n",
    "Params=f90nml.read(nmlfile) #reads the file at a given path\n",
    "print Params['segments']\n",
    "print Params['calibration']"
   ]
  },
  {
   "cell_type": "code",
   "execution_count": 3,
   "metadata": {
    "collapsed": false
   },
   "outputs": [
    {
     "name": "stdout",
     "output_type": "stream",
     "text": [
      "('I found', 4, 'segments')\n"
     ]
    }
   ],
   "source": [
    "# Extract the various components\n",
    "nysegments=Params['segments']['nysegments']\n",
    "nxsegments=Params['segments']['nxsegments']\n",
    "nacross=Params['segments']['nacross']\n",
    "ndown=Params['segments']['ndown']\n",
    "nxstart=Params['segments']['nxstart']\n",
    "ny1start=Params['segments']['ny1start']\n",
    "ny2start = ny1start+ndown \n",
    "\n",
    "pA=Params['calibration']['pA']\n",
    "pB=Params['calibration']['pB']\n",
    "pC=Params['calibration']['pC']\n",
    "pD=Params['calibration']['pD']\n",
    "\n",
    "nx1list = []; nx2list = []\n",
    "ny1list = []; ny2list = []\n",
    "\n",
    "for ix in range(nxsegments):\n",
    "    nx1start = nxstart+ix*nacross; nx2start = nxstart+(ix+1)*nacross \n",
    "    for i in range(nysegments):\n",
    "        nx1list.append(nx1start); nx2list.append(nx2start)\n",
    "        ny1list.append(ny1start+i*ndown); ny2list.append(ny2start+i*ndown)\n",
    "nsegments = nxsegments*nysegments\n",
    "\n",
    "print (\"I found\",nsegments, \"segments\")\n"
   ]
  },
  {
   "cell_type": "code",
   "execution_count": null,
   "metadata": {
    "collapsed": true
   },
   "outputs": [],
   "source": []
  }
 ],
 "metadata": {
  "kernelspec": {
   "display_name": "Python 2",
   "language": "python",
   "name": "python2"
  },
  "language_info": {
   "codemirror_mode": {
    "name": "ipython",
    "version": 2
   },
   "file_extension": ".py",
   "mimetype": "text/x-python",
   "name": "python",
   "nbconvert_exporter": "python",
   "pygments_lexer": "ipython2",
   "version": "2.7.11"
  }
 },
 "nbformat": 4,
 "nbformat_minor": 0
}
