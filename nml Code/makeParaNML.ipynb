{
 "cells": [
  {
   "cell_type": "code",
   "execution_count": 1,
   "metadata": {
    "collapsed": false
   },
   "outputs": [
    {
     "ename": "ModuleNotFoundError",
     "evalue": "No module named 'f90nml'",
     "output_type": "error",
     "traceback": [
      "\u001b[1;31m---------------------------------------------------------------------------\u001b[0m",
      "\u001b[1;31mModuleNotFoundError\u001b[0m                       Traceback (most recent call last)",
      "\u001b[1;32m<ipython-input-1-4ae46fb88392>\u001b[0m in \u001b[0;36m<module>\u001b[1;34m()\u001b[0m\n\u001b[1;32m----> 1\u001b[1;33m \u001b[1;32mimport\u001b[0m \u001b[0mf90nml\u001b[0m\u001b[1;33m\u001b[0m\u001b[0m\n\u001b[0m\u001b[0;32m      2\u001b[0m \u001b[1;33m\u001b[0m\u001b[0m\n\u001b[0;32m      3\u001b[0m \u001b[1;32mdef\u001b[0m \u001b[0mgetParameters\u001b[0m\u001b[1;33m(\u001b[0m\u001b[0mcaseName\u001b[0m\u001b[1;33m)\u001b[0m\u001b[1;33m:\u001b[0m\u001b[1;33m\u001b[0m\u001b[0m\n\u001b[0;32m      4\u001b[0m     '''This function will be called to generate the namelist file for parameters for a given\n\u001b[0;32m      5\u001b[0m     case. It should be editable and return all of the wanted values a case'''\n",
      "\u001b[1;31mModuleNotFoundError\u001b[0m: No module named 'f90nml'"
     ]
    }
   ],
   "source": [
    "import f90nml\n",
    "\n",
    "def getParameters(caseName):\n",
    "    '''This function will be called to generate the namelist file for parameters for a given\n",
    "    case. It should be editable and return all of the wanted values a case'''\n",
    "    \n",
    "    nx1list = []; nx2list = []\n",
    "    ny1list = []; ny2list = []\n",
    "    nysegments = 4\n",
    "    nxsegments = 4\n",
    "    nacross = 40\n",
    "    ndown = 40\n",
    "    nxstart = 250\n",
    "    ny1start = 25\n",
    "    ny2start = ny1start+ndown\n",
    "    for ix in range(nxsegments):\n",
    "        nx1start = nxstart+ix*nacross; nx2start = nxstart+(ix+1)*nacross \n",
    "        for i in range(nysegments):\n",
    "            nx1list.append(nx1start); nx2list.append(nx2start)\n",
    "            ny1list.append(ny1start+i*ndown); ny2list.append(ny2start+i*ndown)\n",
    "    nsegments = nxsegments*nysegments\n",
    "\n",
    "    pA = 101.04798753 , 106.958873177\n",
    "    pB = 90.1823777937 , 76.3561483181\n",
    "    pC = 95.8244330336 , 77.4315996502\n",
    "    pD = 104.429731424 , 87.5491460912\n",
    "\n",
    "    parameters={'nxlist1':nx1list, 'nx2list':nx2list,\n",
    "     'ny1list':ny1list, 'ny2list':ny2list,\n",
    "     'nysegments':nxsegments, 'nxsegments':nxsegments,\n",
    "     'nacross':nacross, 'ndown':ndown,\n",
    "     'nxstart':nxstart, 'ny1start':ny1start, 'ny2start':ny2start,\n",
    "     'pA':pA, 'pB':pB, 'pC':pC, 'pD':pD}\n",
    "     \n",
    "    return parameters\n",
    "\n",
    "with open('C:/Users/cjkri/Desktop', 'w') as nmlParameters:\n",
    "    f90nml.write(nml, nmlParameters)\n",
    "\n"
   ]
  },
  {
   "cell_type": "code",
   "execution_count": null,
   "metadata": {
    "collapsed": true
   },
   "outputs": [],
   "source": []
  }
 ],
 "metadata": {
  "kernelspec": {
   "display_name": "Python 2",
   "language": "python",
   "name": "python2"
  },
  "language_info": {
   "codemirror_mode": {
    "name": "ipython",
    "version": 3
   },
   "file_extension": ".py",
   "mimetype": "text/x-python",
   "name": "python",
   "nbconvert_exporter": "python",
   "pygments_lexer": "ipython3",
   "version": "3.6.1"
  }
 },
 "nbformat": 4,
 "nbformat_minor": 2
}
