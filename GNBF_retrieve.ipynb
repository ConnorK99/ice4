{
 "cells": [
  {
   "cell_type": "markdown",
   "metadata": {},
   "source": [
    "This code is designed to retrieve surface information from input A-D image files and given instrument response parameters"
   ]
  },
  {
   "cell_type": "code",
   "execution_count": null,
   "metadata": {
    "collapsed": false
   },
   "outputs": [],
   "source": [
    "# Generic imports\n",
    "import copy\n",
    "import os\n",
    "import scipy.interpolate\n",
    "from mpl_toolkits.mplot3d import Axes3D\n",
    "from numpy import \\\n",
    "matrix, linspace, meshgrid, sin, cos, array, sqrt, pi, diff, mean, median, std, arcsin, zeros, random, \\\n",
    "size, reshape, shape, vstack, eye, diag, nan_to_num, ones, loadtxt, savetxt, append, squeeze\n",
    "import numpy as np\n",
    "import matplotlib.pyplot as plt\n",
    "import matplotlib\n",
    "from PIL import Image, ImageFont, ImageDraw\n",
    "import f90nml\n",
    "\n",
    "# Application-specific imports\n",
    "import facetbrightnessstuff9 as fbs\n",
    "import imagestuff as ims; reload(ims)\n",
    "import gradstuff as gds\n",
    "\n",
    "# Graphics imports and parameters\n",
    "%matplotlib notebook\n",
    "fontsize = 20\n",
    "linewidth = 2\n",
    "matplotlib.rcParams.update({'font.size': fontsize})"
   ]
  },
  {
   "cell_type": "code",
   "execution_count": null,
   "metadata": {
    "collapsed": false
   },
   "outputs": [],
   "source": [
    "# Specify the input data\n",
    "\n",
    "# Assume all the data are in the same folder\n",
    "crystalfolder = 'crystals'\n",
    "\n",
    "\n",
    "# Each block specifies a surface to be retrieved\n",
    "f1 = '2016-08-09_ice1'\n",
    "case = 'case1'\n",
    "imageroot = '/2016-08-09_ice1_full2'\n",
    "Segmentnamelist = 'Segments1.nml'\n",
    "\n",
    "# f1 = '2016-08-09_ice1'\n",
    "# case = 'case1.26'\n",
    "# imageroot = '/2016-08-09_ice1_rough26'\n",
    "# Segmentnamelist = 'Segments2.nml'\n",
    "\n",
    "# f1 = '2016-06-30_ice4'\n",
    "# case = 'case4_corner'\n",
    "# imageroot = '/2016-06-30_ice4_full2'\n",
    "# Segmentnamelist = 'Segments1.nml'\n",
    "\n",
    "# f1 = '2016-06-30_ice4'\n",
    "# case = 'case4.1'\n",
    "# imageroot = '/2016-06-30_ice4_rough1'\n",
    "# Segmentnamelist = 'Segments1.nml'\n",
    "\n",
    "# f1 = '2017-06-12'\n",
    "# case = 'surface1'\n",
    "# imageroot = '/Figure'\n",
    "# Segmentnamelist = 'Segments1.nml'\n",
    "\n",
    "# f1 = '2017-06-12'\n",
    "# case = 'surface2'\n",
    "# imageroot = '/Figure'\n",
    "# Segmentnamelist = 'Segments1.nml'"
   ]
  },
  {
   "cell_type": "code",
   "execution_count": null,
   "metadata": {
    "collapsed": false
   },
   "outputs": [],
   "source": [
    "# These are derivative names\n",
    "Calibrationfile = crystalfolder+'/'+f1+'/Calibration.nml'\n",
    "surfaceroot = crystalfolder+'/'+f1+'/'+case\n",
    "Segmentfile = surfaceroot+'/'+Segmentnamelist\n",
    "SEMSegmentjpgfile = surfaceroot+'/SEMSegments.jpg'\n",
    "Retrievedjpgfile = surfaceroot+'/Retrieved.jpg'\n",
    "Compressedfilename = surfaceroot+'/retrieved'"
   ]
  },
  {
   "cell_type": "code",
   "execution_count": null,
   "metadata": {
    "collapsed": false
   },
   "outputs": [],
   "source": [
    "# Read the input dataset, including spacing in micrometers\n",
    "dx,dy,cA,cB,cC,cD,Filename = ims.getc2(surfaceroot, '/SEMimages', imageroot)\n",
    "print(\"Filename, dx and dy\", Filename, dx, dy)"
   ]
  },
  {
   "cell_type": "code",
   "execution_count": null,
   "metadata": {
    "collapsed": false
   },
   "outputs": [],
   "source": [
    "# Show the just image (in case we want to look at it before defining the segments)\n",
    "fig, ax = plt.subplots()\n",
    "ax.set_title(surfaceroot,fontsize=fontsize*0.9)\n",
    "#Filename = surfaceroot+'/SEMimages'+imageroot+'-B.bmp'\n",
    "im = Image.open(Filename)\n",
    "ny_im,nx_im = np.shape(im)\n",
    "\n",
    "Iwantmicrons = False\n",
    "if Iwantmicrons:\n",
    "    ax.imshow(im,cmap = 'Greys_r', vmin = 0,vmax = 255, extent=[0,nx_im*dx,0,ny_im*dy])\n",
    "    ax.set_xlabel(r'$x \\ (\\mu m)$',fontsize=fontsize*1.1)\n",
    "    ax.set_ylabel(r'$y \\ (\\mu m)$',fontsize=fontsize*1.1)\n",
    "else:\n",
    "    ax.imshow(im,cmap = 'Greys_r', vmin = 0,vmax = 255)\n",
    "ax.set_title(surfaceroot,fontsize=fontsize*0.9)"
   ]
  },
  {
   "cell_type": "code",
   "execution_count": null,
   "metadata": {
    "collapsed": false
   },
   "outputs": [],
   "source": [
    "# Show the image with segment data\n",
    "fig, ax = plt.subplots()\n",
    "\n",
    "# Just echo input data files  \n",
    "#%cat $Segmentfile\n",
    "\n",
    "# Extract\n",
    "Segments=f90nml.read(Segmentfile) #reads the file at a given path\n",
    "nysegments=Segments['Segments']['nysegments']\n",
    "nxsegments=Segments['Segments']['nxsegments']\n",
    "nacross=Segments['Segments']['nacross']\n",
    "ndown=Segments['Segments']['ndown']\n",
    "nxstart=Segments['Segments']['nxstart']\n",
    "ny1start=Segments['Segments']['ny1start']\n",
    "ny2start = ny1start+ndown \n",
    "nx1list = []; nx2list = []\n",
    "ny1list = []; ny2list = []\n",
    "for ix in range(nxsegments):\n",
    "    nx1start = nxstart+ix*nacross; nx2start = nxstart+(ix+1)*nacross \n",
    "    for i in range(nysegments):\n",
    "        nx1list.append(nx1start); nx2list.append(nx2start)\n",
    "        ny1list.append(ny1start+i*ndown); ny2list.append(ny2start+i*ndown)\n",
    "nsegments = nxsegments*nysegments\n",
    "\n",
    "# Set up sub-grids in case of multiple segments\n",
    "nyxgrid = []\n",
    "for i in range(nsegments):\n",
    "    nyxgridi = [ (y, x) for y in range(ny1list[i], ny2list[i]+1) for x in range(nx1list[i], nx2list[i]+1) ]\n",
    "    nyxgrid.append(nyxgridi)\n",
    "\n",
    "# Add the segments\n",
    "draw = ImageDraw.Draw(im)\n",
    "for i in range(nsegments):\n",
    "    nx1 = nx1list[i]\n",
    "    nx2 = nx2list[i]\n",
    "    ny1 = ny1list[i]\n",
    "    ny2 = ny2list[i]\n",
    "    ims.myrectangle(draw,(nx1,ny1),(nx2,ny2),2)\n",
    "\n",
    "if Iwantmicrons:\n",
    "    ax.imshow(im,cmap = 'Greys_r', vmin = 0,vmax = 255, extent=[0,nx_im*dx,0,ny_im*dy])\n",
    "    ax.set_xlabel(r'$x \\ (\\mu m)$',fontsize=fontsize*1.1)\n",
    "    ax.set_ylabel(r'$y \\ (\\mu m)$',fontsize=fontsize*1.1)\n",
    "else:\n",
    "    ax.imshow(im,cmap = 'Greys_r', vmin = 0,vmax = 255)\n",
    "\n",
    "# Save a copy\n",
    "fig.savefig(SEMSegmentjpgfile)"
   ]
  },
  {
   "cell_type": "code",
   "execution_count": null,
   "metadata": {
    "collapsed": false
   },
   "outputs": [],
   "source": [
    "# Read and unpack the calibration data\n",
    "\n",
    "# Just echo input data files  \n",
    "print(Calibrationfile)\n",
    "#%cat $Calibrationfile\n",
    "\n",
    "# Extract\n",
    "Calibration=f90nml.read(Calibrationfile) #reads the file at a given path\n",
    "pA=Calibration['Calibration']['pA']\n",
    "pB=Calibration['Calibration']['pB']\n",
    "pC=Calibration['Calibration']['pC']\n",
    "pD=Calibration['Calibration']['pD']\n"
   ]
  },
  {
   "cell_type": "code",
   "execution_count": null,
   "metadata": {
    "collapsed": false
   },
   "outputs": [],
   "source": [
    "# Set up a grid of surface normal vectors and the backscatter response on them\n",
    "nptsx = 103\n",
    "nptsy = 101\n",
    "nxmid = int(nptsx/2); #print nxmid\n",
    "nymid = int(nptsy/2); #print nymid\n",
    "nmax = 5\n",
    "nxi = linspace(-nmax,nmax,nptsx); dnx = nxi[1]-nxi[0]\n",
    "nyi = linspace(-nmax,nmax,nptsy); dny = nyi[1]-nyi[0]\n",
    "nxigrid,nyigrid = meshgrid(nxi,nyi)\n",
    "theta = 15*pi/180\n",
    "sA = (-nxigrid*sin(theta)+cos(theta)-1)/(1+nxigrid**2+nyigrid**2)**.5\n",
    "sB = (-nyigrid*sin(theta)+cos(theta)-1)/(1+nxigrid**2+nyigrid**2)**.5\n",
    "sC = (+nxigrid*sin(theta)+cos(theta)-1)/(1+nxigrid**2+nyigrid**2)**.5\n",
    "sD = (+nyigrid*sin(theta)+cos(theta)-1)/(1+nxigrid**2+nyigrid**2)**.5\n",
    "\n",
    "# Set up the grids     \n",
    "BSgridA = np.polyval(pA,sA)\n",
    "BSgridB = np.polyval(pB,sB)\n",
    "BSgridC = np.polyval(pC,sC)\n",
    "BSgridD = np.polyval(pD,sD)"
   ]
  },
  {
   "cell_type": "code",
   "execution_count": null,
   "metadata": {
    "collapsed": false
   },
   "outputs": [],
   "source": [
    "# Generating the response function for each detector\n",
    "BSgridN = [BSgridA, BSgridB, BSgridC, BSgridD]\n",
    "BSgridL = ['A', 'B', 'C', 'D']\n",
    "BSmax = 150 # this for display purposes\n",
    "nxigrid.shape"
   ]
  },
  {
   "cell_type": "code",
   "execution_count": null,
   "metadata": {
    "collapsed": true
   },
   "outputs": [],
   "source": [
    "# Set up interpolators for detector responses\n",
    "Arule, Brule, Crule, Drule, \\\n",
    "KAxrule, KAyrule, KBxrule, KByrule, KCxrule, KCyrule, KDxrule, KDyrule =\\\n",
    "fbs.setupdetectorresponse2(BSgridA, BSgridB, BSgridC, BSgridD, nxi, nyi, dnx, dny)"
   ]
  },
  {
   "cell_type": "code",
   "execution_count": null,
   "metadata": {
    "collapsed": true
   },
   "outputs": [],
   "source": [
    "# Create a blank slate\n",
    "solution = zeros(cA.shape)"
   ]
  },
  {
   "cell_type": "code",
   "execution_count": null,
   "metadata": {
    "collapsed": true
   },
   "outputs": [],
   "source": [
    "# Generic retrieval parameters\n",
    "maxiter = 5\n",
    "tolerance = 10"
   ]
  },
  {
   "cell_type": "code",
   "execution_count": null,
   "metadata": {
    "collapsed": false
   },
   "outputs": [],
   "source": [
    "# Create the a priori/solution set, and the uncertainty set\n",
    "    \n",
    "# Define the variance in the observations (BS units^2)\n",
    "noiseamp = 5.0\n",
    "print('Std deviation in input signal is', noiseamp**.5)\n",
    "\n",
    "# Define parameters determining the variance in the a priori (microns^2)\n",
    "apriorivar0 = 100.0\n",
    "print('Std deviation in a priori is', apriorivar0**.5)\n",
    "\n",
    "# Create the initial a priori variance\n",
    "apriorivar = ones(cA.shape)*apriorivar0\n",
    "\n",
    "# Create the initial a priori set\n",
    "aprioriset = zeros(cA.shape)"
   ]
  },
  {
   "cell_type": "code",
   "execution_count": null,
   "metadata": {
    "collapsed": false
   },
   "outputs": [],
   "source": [
    "# Loop to retrieve each segment\n",
    "for isegment in range(nsegments):\n",
    "    \n",
    "    # Choose the particular location of the dataset to analyze\n",
    "    nx1=nx1list[isegment]; nx2=nx2list[isegment]; nx = nx2-nx1+1\n",
    "    ny1=ny1list[isegment]; ny2=ny2list[isegment]; ny = ny2-ny1+1\n",
    "\n",
    "    # Construct gradients\n",
    "    Ny_unscaled, Nx_unscaled = gds.makeNxNy(ny,nx)\n",
    "    Ny = Ny_unscaled/dy\n",
    "    Nx = -Nx_unscaled/dx #fixing x inversion\n",
    "    \n",
    "    # Number of observations\n",
    "    nobs = (nx-1)*(ny-1)*4\n",
    "\n",
    "    # Number of desired points (heights)\n",
    "    nzpts = ny*nx-1\n",
    "    \n",
    "    # Extract the a priori variance\n",
    "    vartemp = apriorivar[ny1:ny2+1,nx1:nx2+1]\n",
    "    vartemp_long = reshape(vartemp,nzpts+1,0)\n",
    "    Sa = diag(vartemp_long[:-1]); #print \"apriorivar\", shape(Sa)\n",
    "    \n",
    "    # Extract the starting z\n",
    "    settemp = solution[ny1:ny2+1,nx1:nx2+1]\n",
    "    settemp_long = reshape(settemp,nzpts+1,0)\n",
    "    settemp_longminus1 = settemp_long[:-1]\n",
    "    z_start = matrix(settemp_longminus1).T; #print \"aprioriset\", shape(z_start)\n",
    "    z_start = z_start*0.0; #print \"aprioriset\", shape(z_start)\n",
    "\n",
    "    # Construct the variance in observation + model\n",
    "    Se = matrix(eye(nobs))*noiseamp # Variance in observation + model (c)\n",
    "\n",
    "    # Do the retrieval\n",
    "    print(\"for\", nx1, ny1)\n",
    "    print(\"Segment:\", isegment+1, \"of\", nsegments)\n",
    "    z_retrieved = fbs.retrievesegment(\\\n",
    "        nx1,ny1,nx2,ny2,cA,cB,cC,cD,\\\n",
    "        Sa,Se,z_start,maxiter,tolerance,\\\n",
    "        Nx,Ny,\\\n",
    "        Arule, Brule, Crule, Drule,\\\n",
    "        KAxrule, KAyrule, \\\n",
    "        KBxrule, KByrule, \\\n",
    "        KCxrule, KCyrule, \\\n",
    "        KDxrule, KDyrule)\n",
    "    \n",
    "    if isegment == 0:\n",
    "        solution[ny1:ny2+1,nx1:nx2+1] = copy.copy(z_retrieved)\n",
    "    else:\n",
    "        nextsolution = zeros(cA.shape)\n",
    "        nextsolution[ny1:ny2+1,nx1:nx2+1] = copy.copy(z_retrieved)\n",
    "        overlap = []\n",
    "        for i in range(isegment):\n",
    "            nextoverlap = list( set(nyxgrid[i])&set(nyxgrid[isegment]) )\n",
    "            overlap = overlap + nextoverlap\n",
    "            Noverlap = len(overlap); \n",
    "        print(\"Noverlap =\", Noverlap)\n",
    "        diff = 0.0\n",
    "        for j in range(Noverlap):\n",
    "            diff += nextsolution[overlap[j]] - solution[overlap[j]]\n",
    "        diffavg = diff/Noverlap\n",
    "        z_retrieved -= diffavg\n",
    "        solution[ny1:ny2+1,nx1:nx2+1] = copy.copy(z_retrieved)"
   ]
  },
  {
   "cell_type": "code",
   "execution_count": null,
   "metadata": {
    "collapsed": false
   },
   "outputs": [],
   "source": [
    "# Show the reconstructed surface\n",
    "nx1tot = min(nx1list)\n",
    "nx2tot = max(nx2list)\n",
    "ny1tot = min(ny1list)\n",
    "ny2tot = max(ny2list)\n",
    "nxtot = nx2tot-nx1tot; print (nxtot)\n",
    "nytot = ny2tot-ny1tot; print (nytot)\n",
    "ymaxtot = (nytot-1)*dy; xmaxtot = (nxtot-1)*dx\n",
    "\n",
    "surf_ytot = linspace(0,ymaxtot,nytot); #print surf_ytot[1]-surf_ytot[0]; \n",
    "surf_xtot = linspace(0,xmaxtot,nxtot); #print surf_xtot[1]-surf_xtot[0]; \n",
    "surf_xgridtot, surf_ygridtot = meshgrid(surf_xtot,surf_ytot)\n",
    "settemp = solution[ny1tot:ny2tot,nx1tot:nx2tot]\n",
    "\n",
    "fig = plt.figure()\n",
    "ax = fig.add_subplot(111, projection='3d')\n",
    "ax.plot_surface(surf_xgridtot, surf_ygridtot, settemp, rstride=4,cstride=4)\n",
    "ax.invert_yaxis() # invert y axis (this fixes the right-hand-oriented vs left-hand-oriented system)\n",
    "ax.set_xlabel('x')\n",
    "ax.set_ylabel('y')\n",
    "ax.set_zlabel('z')\n",
    "ax.set_title(f1)\n",
    "ax.view_init(azim=-120,elev=22)\n",
    "\n",
    "#save an image\n",
    "fig.savefig(Retrievedjpgfile)"
   ]
  },
  {
   "cell_type": "code",
   "execution_count": null,
   "metadata": {
    "collapsed": false
   },
   "outputs": [],
   "source": [
    "# Save this data\n",
    "print(\"saving\", Compressedfilename)\n",
    "np.savez_compressed(Compressedfilename, \\\n",
    "                    surfaceroot=surfaceroot, \\\n",
    "                    imageroot=imageroot, \\\n",
    "                    nx1list=nx1list, \\\n",
    "                    nx2list=nx2list, \\\n",
    "                    ny1list=ny1list, \\\n",
    "                    ny2list=ny2list, \\\n",
    "                    pA=pA, \\\n",
    "                    pB=pB, \\\n",
    "                    pC=pC, \\\n",
    "                    pD=pD, \\\n",
    "                    sA=sA, \\\n",
    "                    sB=sB, \\\n",
    "                    sC=sC, \\\n",
    "                    sD=sD, \\\n",
    "                    nxi=nxi, \\\n",
    "                    nyi=nyi, \\\n",
    "                    dnx=dnx, \\\n",
    "                    dny=dny, \\\n",
    "                    solution=solution)"
   ]
  },
  {
   "cell_type": "code",
   "execution_count": null,
   "metadata": {
    "collapsed": true
   },
   "outputs": [],
   "source": []
  }
 ],
 "metadata": {
  "kernelspec": {
   "display_name": "Python 2",
   "language": "python",
   "name": "python2"
  },
  "language_info": {
   "codemirror_mode": {
    "name": "ipython",
    "version": 2
   },
   "file_extension": ".py",
   "mimetype": "text/x-python",
   "name": "python",
   "nbconvert_exporter": "python",
   "pygments_lexer": "ipython2",
   "version": "2.7.11"
  }
 },
 "nbformat": 4,
 "nbformat_minor": 1
}
